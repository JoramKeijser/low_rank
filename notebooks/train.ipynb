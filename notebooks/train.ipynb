{
 "cells": [
  {
   "cell_type": "markdown",
   "metadata": {},
   "source": [
    "To DO:\n",
    "* Make run equal to original simulate function"
   ]
  },
  {
   "cell_type": "code",
   "execution_count": 1,
   "metadata": {},
   "outputs": [
    {
     "name": "stderr",
     "output_type": "stream",
     "text": [
      "/home/joram/anaconda3/lib/python3.6/site-packages/h5py/__init__.py:36: FutureWarning: Conversion of the second argument of issubdtype from `float` to `np.floating` is deprecated. In future, it will be treated as `np.float64 == np.dtype(float).type`.\n",
      "  from ._conv import register_converters as _register_converters\n"
     ]
    }
   ],
   "source": [
    "import jax\n",
    "from jax import random\n",
    "from jax import numpy as np\n",
    "from jax import vmap, jit, grad\n",
    "from jax.experimental import optimizers\n",
    "import numpy as onp\n",
    "import matplotlib.pyplot as plt\n",
    "%matplotlib inline\n",
    "import time"
   ]
  },
  {
   "cell_type": "code",
   "execution_count": 2,
   "metadata": {},
   "outputs": [
    {
     "name": "stdout",
     "output_type": "stream",
     "text": [
      "dict_keys(['J0', 'J', 'w', 'I_go', 'I_nogo', 'y_go', 'y_nogo'])\n"
     ]
    }
   ],
   "source": [
    "# load data\n",
    "import pickle\n",
    "\n",
    "with open('go_nogo_200.pickle', 'rb') as handle:\n",
    "    d = pickle.load(handle)\n",
    "print(d.keys())\n",
    "y_go = d['y_go'] #/ d['y_go'].max()\n",
    "y_go[150:] = 0 \n",
    "y_nogo = d['y_nogo'] * 0 # let it be 0\n"
   ]
  },
  {
   "cell_type": "code",
   "execution_count": 3,
   "metadata": {},
   "outputs": [
    {
     "name": "stderr",
     "output_type": "stream",
     "text": [
      "/home/joram/anaconda3/lib/python3.6/site-packages/jax/lib/xla_bridge.py:144: UserWarning: No GPU/TPU found, falling back to CPU.\n",
      "  warnings.warn('No GPU/TPU found, falling back to CPU.')\n"
     ]
    },
    {
     "data": {
      "text/plain": [
       "[<matplotlib.lines.Line2D at 0x7fd3b402c080>]"
      ]
     },
     "execution_count": 3,
     "metadata": {},
     "output_type": "execute_result"
    },
    {
     "data": {
      "image/png": "[encoded data removed]",
      "text/plain": [
       "<matplotlib.figure.Figure at 0x7fd3b533ed30>"
      ]
     },
     "metadata": {},
     "output_type": "display_data"
    }
   ],
   "source": [
    "N = d['I_go'].shape[0]\n",
    "Jinit = d['J0']\n",
    "J = d['J']\n",
    "w = d['w']\n",
    "zN = np.zeros((25,N))\n",
    "zNl = np.zeros((125,N))\n",
    "z1 = np.zeros((1))\n",
    "x_go = np.concatenate((zN, np.repeat(d['I_go'][None], axis=0, repeats=50), zNl))\n",
    "x_nogo = np.concatenate((zN, np.repeat(d['I_nogo'][None], axis=0, repeats=50), zNl))\n",
    "f, ax = plt.subplots(1, 2)\n",
    "ax[0].plot(x_go.mean(1))\n",
    "ax[0].plot(x_nogo.mean(1))\n",
    "ax[1].plot(y_go)\n",
    "ax[1].plot(y_nogo)"
   ]
  },
  {
   "cell_type": "markdown",
   "metadata": {},
   "source": [
    "## Define network"
   ]
  },
  {
   "cell_type": "code",
   "execution_count": 4,
   "metadata": {},
   "outputs": [],
   "source": [
    "def step_rnn(J, h, x):\n",
    "    \"\"\" Perform one forward step \"\"\"\n",
    "    h = np.dot(J, h) + x\n",
    "    return np.tanh(h)\n",
    "\n",
    "def output(w, h):\n",
    "    return np.dot(w, h)\n",
    "\n",
    "batched_output = vmap(output, (None, 0))\n",
    "\n",
    "def run(J, w, x_t):\n",
    "    \"\"\" Simulate RNN for T time steps\n",
    "        params : dict with keys J, w\n",
    "        x_t : inputs, of shape (T, )\n",
    "    \"\"\"\n",
    "    T, N = x_t.shape\n",
    "    # Random initial condition\n",
    "    key = random.PRNGKey(onp.random.randint(low=0, high=10**3))\n",
    "    h = random.normal(key, shape=(N, ))\n",
    "    h_t = []\n",
    "    for x in x_t:\n",
    "        h = step_rnn(J, h, x)\n",
    "        h_t.append(h)\n",
    "    h_t = np.array(h_t)\n",
    "    o_t = batched_output(w, h_t)\n",
    "    return h_t, o_t\n",
    "\n",
    "batched_run = vmap(run, (None, None,0))"
   ]
  },
  {
   "cell_type": "code",
   "execution_count": 5,
   "metadata": {},
   "outputs": [
    {
     "data": {
      "text/plain": [
       "<matplotlib.legend.Legend at 0x7fd3ac691860>"
      ]
     },
     "execution_count": 5,
     "metadata": {},
     "output_type": "execute_result"
    },
    {
     "data": {
      "image/png": "[encoded data removed]",
      "text/plain": [
       "<matplotlib.figure.Figure at 0x7fd3ac7df2e8>"
      ]
     },
     "metadata": {},
     "output_type": "display_data"
    }
   ],
   "source": [
    "h_t, o_t = batched_run(d['J'], d['w'], x_go[None])\n",
    "plt.plot(o_t[0], label = 'Go')\n",
    "h_t, o_t = batched_run(d['J'], d['w'], x_nogo[None])\n",
    "plt.plot(o_t[0], label = 'No Go')\n",
    "plt.legend()"
   ]
  },
  {
   "cell_type": "code",
   "execution_count": 6,
   "metadata": {},
   "outputs": [],
   "source": [
    "def compute_loss(J, w, inputs, targets):\n",
    "    \"\"\" Inputs of size (nb_inputs, T, N) \"\"\"\n",
    "    _, outputs = batched_run(J, w, inputs)\n",
    "    loss = np.mean((outputs - targets) ** 2)\n",
    "    return loss\n",
    "\n",
    "#loss_jit = jit(compute_loss)\n",
    "#loss_jit(d['J'], d['w'], x_go[None], d['y_go'][None])"
   ]
  },
  {
   "cell_type": "code",
   "execution_count": 7,
   "metadata": {},
   "outputs": [],
   "source": [
    "def update_weights(i, opt_state, opt_update, inputs, targets):\n",
    "    J = optimizers.get_params(opt_state)\n",
    "    def training_loss(J, w, x, y):\n",
    "        return compute_loss(J,w,x,y)\n",
    "    grads = grad(training_loss)(J,w,inputs,targets)\n",
    "    return opt_update(i, grads, opt_state)\n",
    "\n",
    "#update_weights_jit = jit(update_weights, static_argnums=(2,))"
   ]
  },
  {
   "cell_type": "code",
   "execution_count": 8,
   "metadata": {},
   "outputs": [],
   "source": [
    "# Always show the same pattern\n",
    "inputs = np.concatenate((x_go[None], x_nogo[None]))\n",
    "targets = np.concatenate((y_go[None], y_nogo[None]))"
   ]
  },
  {
   "cell_type": "code",
   "execution_count": null,
   "metadata": {},
   "outputs": [],
   "source": [
    "gamma = 0.99\n",
    "decay_fun = optimizers.exponential_decay(step_size=1e-3, decay_steps=1, decay_rate=gamma)\n",
    "opt_init, opt_update = optimizers.adam(decay_fun) \n",
    "init_J = d['J0']\n",
    "opt_state = opt_init(init_J)\n",
    "#update_weights_jit(0, opt_state, opt_update, inputs, targets)"
   ]
  },
  {
   "cell_type": "code",
   "execution_count": null,
   "metadata": {},
   "outputs": [
    {
     "name": "stdout",
     "output_type": "stream",
     "text": [
      "Step 0 in 3.47 sec, step size 0.00100, loss 4.153\n",
      "Step 10 in 0.61 sec, step size 0.00090, loss 1.870\n",
      "Step 20 in 0.68 sec, step size 0.00082, loss 1.404\n",
      "Step 30 in 0.63 sec, step size 0.00074, loss 0.971\n",
      "Step 40 in 0.93 sec, step size 0.00067, loss 1.694\n",
      "Step 50 in 0.64 sec, step size 0.00061, loss 1.877\n",
      "Step 60 in 0.62 sec, step size 0.00055, loss 1.379\n",
      "Step 70 in 0.67 sec, step size 0.00049, loss 0.994\n"
     ]
    }
   ],
   "source": [
    "# don't jit, its super slow on cpu \n",
    "loss_hist = []\n",
    "print_every = 10\n",
    "for t in range(100):\n",
    "    t0 = time.time()\n",
    "    opt_state = update_weights(t, opt_state, opt_update, inputs, targets)\n",
    "    t1 = time.time()\n",
    "    if t % print_every == 0:\n",
    "        J = optimizers.get_params(opt_state)\n",
    "        l = compute_loss(J, w, inputs, targets)\n",
    "        s = \"Step {} in {:0.2f} sec, step size {:0.5f}, loss {:0.3f}\"\n",
    "        print(s.format(t, t1 - t0, decay_fun(t), l))\n",
    "        loss_hist.append(l)\n",
    "    "
   ]
  },
  {
   "cell_type": "code",
   "execution_count": null,
   "metadata": {},
   "outputs": [],
   "source": [
    "plt.plot(loss_hist)"
   ]
  },
  {
   "cell_type": "code",
   "execution_count": null,
   "metadata": {},
   "outputs": [],
   "source": [
    "h_t, o_t = batched_run(J, d['w'], x_go[None])\n",
    "plt.plot(o_t[0], label = 'Go')\n",
    "plt.plot(y_go, label = 'Go target')\n",
    "h_t, o_t = batched_run(J, d['w'], x_nogo[None])\n",
    "plt.plot(o_t[0], label = 'No Go')\n",
    "plt.legend()"
   ]
  }
 ],
 "metadata": {
  "kernelspec": {
   "display_name": "Python 3",
   "language": "python",
   "name": "python3"
  },
  "language_info": {
   "codemirror_mode": {
    "name": "ipython",
    "version": 3
   },
   "file_extension": ".py",
   "mimetype": "text/x-python",
   "name": "python",
   "nbconvert_exporter": "python",
   "pygments_lexer": "ipython3",
   "version": "3.6.4"
  }
 },
 "nbformat": 4,
 "nbformat_minor": 2
}
